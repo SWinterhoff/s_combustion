{
 "cells": [
  {
   "cell_type": "code",
   "execution_count": 220,
   "metadata": {},
   "outputs": [],
   "source": [
    "# Loading modules\n",
    "import numpy as np\n",
    "import pandas as pd\n",
    "import matplotlib.pyplot as plt"
   ]
  },
  {
   "cell_type": "code",
   "execution_count": 221,
   "metadata": {},
   "outputs": [],
   "source": [
    "# Loading data from Excel\n",
    "df = pd.read_excel('data/LV_Datenbank.xlsx', sheet_name='Daten Trägersysteme 2021')\n",
    "df_launchrates = pd.read_excel('data/LV_Datenbank_cleaned.xlsx', sheet_name='Startraten 2021')"
   ]
  },
  {
   "cell_type": "code",
   "execution_count": 222,
   "metadata": {},
   "outputs": [],
   "source": [
    "# Creating a dataframe with all fuel types\n",
    "df_fuel = pd.DataFrame(pd.unique(df[['stage1_fuel', 'stage2_fuel', 'stage3_fuel', 'stage4_fuel', 'stage5_fuel']].values.ravel('K')), columns=['fuel'])\n",
    "\n",
    "# Dropping NaN Value\n",
    "df_fuel = df_fuel.dropna()\n",
    "\n",
    "# Setting Fuel as index\n",
    "df_fuel = df_fuel.set_index('fuel')"
   ]
  },
  {
   "cell_type": "code",
   "execution_count": 223,
   "metadata": {},
   "outputs": [
    {
     "name": "stdout",
     "output_type": "stream",
     "text": [
      "                  CO2       H2O        N2        O2       HCl     Al2O3\n",
      "fuel                                                                   \n",
      "RP-1/LOX     3.150000  1.260000  0.000000  0.000000  0.000000  0.000000\n",
      "Al/AP/HTPB   0.385691  0.277904  0.014007  0.234907  0.214131  0.358998\n",
      "HTPB         3.214089  0.993343  0.000000  0.000000  0.000000  0.000000\n",
      "N2O4/UDMH    1.464583  1.199054  1.398379  0.000000  0.000000  0.000000\n",
      "LH2/LOX      0.000000  8.936683  0.000000  0.000000  0.000000  0.000000\n",
      "Jet A/LOX    3.150000  1.260000  0.000000  0.000000  0.000000  0.000000\n",
      "TH-H8299/Al  0.000000  0.000000  0.000000  0.000000  0.000000  0.000000\n",
      "Hydrazine    0.000000  1.124368  1.311278  0.000000  0.000000  0.000000\n",
      "MMH/MON      0.955239  1.173080  2.736174  0.000000  0.000000  0.000000\n"
     ]
    }
   ],
   "source": [
    "# Adding the stoichiometric combustion products per kg fuel\n",
    "\n",
    "# ['RP-1/LOX', 'Al/AP/HTPB', 'HTPB', 'N2O4/UDMH', 'LH2/LOX', 'Jet A/LOX', 'TH-H8299/Al', 'Hydrazine', 'MMH/MON']\n",
    "df_fuel['CO2'] = np.array([3.15, 0.385690653, 3.214088774, 1.464583369, 0, 3.15, 0, 0, 0.955238504])\n",
    "df_fuel['H2O'] = np.array([1.26, 0.277903767, 0.993343379, 1.199053817, 8.936682739, 1.26, 0, 1.124368235, 1.17308007])\n",
    "df_fuel['N2'] = np.array([0, 0.0140067, 0, 1.398378524, 0, 0, 0, 1.311277585, 2.736174062])\n",
    "df_fuel['O2'] = np.array([0, 0.23490668, 0, 0, 0, 0, 0, 0, 0])\n",
    "df_fuel['HCl'] = np.array([0, 0.214130989, 0, 0, 0, 0, 0, 0, 0])\n",
    "df_fuel['Al2O3'] = np.array([0, 0.358998351, 0, 0, 0, 0, 0, 0, 0])\n",
    "\n",
    "print(df_fuel)"
   ]
  },
  {
   "cell_type": "code",
   "execution_count": 224,
   "metadata": {},
   "outputs": [],
   "source": [
    "# Replacing NaN with 0 within the original dataframe for further calculations\n",
    "df = df.fillna(0)"
   ]
  },
  {
   "cell_type": "code",
   "execution_count": 225,
   "metadata": {},
   "outputs": [],
   "source": [
    "# Creating a dataframe based on the factors of \"df_fuel\" and the used fuel type from \"df\"\n",
    "# Multipling it by the stage mass for every product and every stage\n",
    "for stage in np.arange(1, 6):\n",
    "    for product in df_fuel.columns:\n",
    "        df_temp = []\n",
    "        for fuel_type in df['stage{0}_fuel'.format(stage)]:\n",
    "            df_temp.append(df_fuel[product][fuel_type])\n",
    "        df['stage{0}_{1}'.format(stage, product)] = df['stage{0}_mass_fuel'.format(stage)]*df_temp\n"
   ]
  },
  {
   "cell_type": "code",
   "execution_count": 226,
   "metadata": {},
   "outputs": [],
   "source": [
    "# Creating the single sum (one launch) of every product for all launchvehicles\n",
    "\n",
    "    # for product in df_fuel.columns:\n",
    "    #     print(df[df.columns[df.columns.str.contains(product)]])\n",
    "    \n",
    "for product in df_fuel.columns:\n",
    "    # Could result in false summation if the preceding products contain the name of the following ones\n",
    "    df['single_sum_{0}'.format(product)] = df[df.columns[df.columns.str.contains('_{}'.format(product))]].sum(axis=1)\n"
   ]
  },
  {
   "cell_type": "code",
   "execution_count": 227,
   "metadata": {},
   "outputs": [],
   "source": [
    "# Adding hand cleaned data of total launches from new Excel sheet\n",
    "\n",
    "df[\"launchrate\"] = df_launchrates[\"Total\"]"
   ]
  },
  {
   "cell_type": "code",
   "execution_count": 228,
   "metadata": {},
   "outputs": [
    {
     "name": "stdout",
     "output_type": "stream",
     "text": [
      "2021 - Total Emissions of Launchvehicles\n",
      "CO2: 44879.83 t\n",
      "H2O: 23094.33 t\n",
      "N2: 6323.11 t\n",
      "O2: 169.13 t\n",
      "HCl: 154.17 t\n",
      "Al2O3: 258.48 t\n"
     ]
    }
   ],
   "source": [
    "# Creating the total sum (all launches) of every product for all launchvehicles\n",
    "\n",
    "print(\"2021 - Total Emissions of Launchvehicles\")\n",
    "for product in df_fuel.columns:\n",
    "    df['total_sum_{0}'.format(product)] = df['single_sum_{}'.format(product)] * df[\"launchrate\"]\n",
    "    \n",
    "    print(\"{0}: {1} t\".format(product, round(df['total_sum_{0}'.format(product)].sum()/1000, 2)))"
   ]
  },
  {
   "cell_type": "code",
   "execution_count": 229,
   "metadata": {},
   "outputs": [],
   "source": [
    "# Exporting results\n",
    "\n",
    "df.to_excel(\"output.xlsx\") \n"
   ]
  }
 ],
 "metadata": {
  "kernelspec": {
   "display_name": "Python 3.10.8 64-bit (microsoft store)",
   "language": "python",
   "name": "python3"
  },
  "language_info": {
   "codemirror_mode": {
    "name": "ipython",
    "version": 3
   },
   "file_extension": ".py",
   "mimetype": "text/x-python",
   "name": "python",
   "nbconvert_exporter": "python",
   "pygments_lexer": "ipython3",
   "version": "3.10.8"
  },
  "orig_nbformat": 4,
  "vscode": {
   "interpreter": {
    "hash": "6085004884d7fe2d487ef9b1c33a506ee19a6a4095578a744a51e1ad1ca70fa0"
   }
  }
 },
 "nbformat": 4,
 "nbformat_minor": 2
}
